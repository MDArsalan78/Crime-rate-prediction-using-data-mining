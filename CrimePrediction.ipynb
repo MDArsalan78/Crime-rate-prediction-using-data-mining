Load Data
import pandas as pd
import numpy as np
import matplotlib.pyplot as plt
import seaborn as sns
%matplotlib inline
dataset=pd.read_csv('data.csv')
data=pd.read_csv('data.csv')
dataset.head()
timestamp	act379	act13	act279	act323	act363	act302	latitude	longitude
0	28-02-2018 21:00	1	0	0	0	0	0	22.737260	75.875987
1	28-02-2018 21:15	1	0	0	0	0	0	22.720992	75.876083
2	28-02-2018 10:15	0	0	1	0	0	0	22.736676	75.883168
3	28-02-2018 10:15	0	0	1	0	0	0	22.746527	75.887139
4	28-02-2018 10:30	0	0	1	0	0	0	22.769531	75.888772
for col in data:
    print (type(data[col][1]))
<class 'str'>
<class 'numpy.int64'>
<class 'numpy.int64'>
<class 'numpy.int64'>
<class 'numpy.int64'>
<class 'numpy.int64'>
<class 'numpy.int64'>
<class 'numpy.float64'>
<class 'numpy.float64'>
data['timestamp'] = pd.to_datetime(data['timestamp'], coerce=True)
C:\Users\TiwariJi\Anaconda3\lib\site-packages\ipykernel\__main__.py:1: FutureWarning: the coerce=True keyword is deprecated, use errors='coerce' instead
  if __name__ == '__main__':
data['timestamp'] = pd.to_datetime(data['timestamp'], format = '%d/%m/%Y %H:%M:%S')
data['timestamp']
0      2018-02-28 21:00:00
1      2018-02-28 21:15:00
2      2018-02-28 10:15:00
3      2018-02-28 10:15:00
4      2018-02-28 10:30:00
5      2018-02-28 14:15:00
6      2018-02-28 08:00:00
7      2018-02-28 03:30:00
8      2018-02-28 01:30:00
9      2018-02-28 19:00:00
10     2018-02-28 14:10:00
11     2018-02-28 14:25:00
12     2018-02-28 22:00:00
13     2018-02-28 22:00:00
14     2018-02-28 22:10:00
15     2018-02-28 12:00:00
16     2018-02-28 13:30:00
17     2018-02-28 03:00:00
18     2018-02-28 23:50:00
19     2018-02-28 19:00:00
20     2018-02-28 11:55:00
21     2018-02-28 11:00:00
22     2018-02-28 18:00:00
23     2018-02-28 01:00:00
24     2018-02-28 00:00:00
25     2018-02-28 22:10:00
26     2018-02-28 22:30:00
27     2018-02-28 08:40:00
28     2018-02-28 15:40:00
29     2018-02-28 15:50:00
               ...        
2060   2018-06-03 11:30:00
2061   2018-06-03 10:10:00
2062   2018-07-03 14:50:00
2063   2018-07-03 20:40:00
2064   2018-07-03 13:35:00
2065   2018-07-03 22:55:00
2066                   NaT
2067                   NaT
2068   2018-07-03 18:05:00
2069   2018-07-03 14:00:00
2070   2018-07-03 16:00:00
2071   2018-07-03 18:00:00
2072   2018-07-03 00:35:00
2073   2018-07-03 20:20:00
2074   2018-07-03 13:00:00
2075   2018-07-03 16:15:00
2076   2018-07-03 17:00:00
2077   2018-07-03 19:05:00
2078   2018-07-03 12:50:00
2079   2018-07-03 21:05:00
2080   2018-07-03 12:20:00
2081   2018-07-03 20:20:00
2082   2018-07-03 20:40:00
2083   2018-07-03 19:55:00
2084   2018-07-03 21:20:00
2085   2018-07-03 03:50:00
2086   2018-07-03 21:10:00
2087   2018-07-03 12:10:00
2088   2018-07-03 10:35:00
2089   2018-07-03 23:45:00
Name: timestamp, dtype: datetime64[ns]
# DATE TIME STAMP FUNCTION
column_1 = data.ix[:,0]

db=pd.DataFrame({"year": column_1.dt.year,
              "month": column_1.dt.month,
              "day": column_1.dt.day,
              "hour": column_1.dt.hour,
              "dayofyear": column_1.dt.dayofyear,
              "week": column_1.dt.week,
              "weekofyear": column_1.dt.weekofyear,
              "dayofweek": column_1.dt.dayofweek,
              "weekday": column_1.dt.weekday,
              "quarter": column_1.dt.quarter,
             })
dataset1=dataset.drop('timestamp',axis=1)
data1=pd.concat([db,dataset1],axis=1)
Data Analysis
data1.info()
<class 'pandas.core.frame.DataFrame'>
RangeIndex: 2090 entries, 0 to 2089
Data columns (total 18 columns):
day           2068 non-null float64
dayofweek     2068 non-null float64
dayofyear     2068 non-null float64
hour          2068 non-null float64
month         2068 non-null float64
quarter       2068 non-null float64
week          2068 non-null float64
weekday       2068 non-null float64
weekofyear    2068 non-null float64
year          2068 non-null float64
act379        2090 non-null int64
act13         2090 non-null int64
act279        2090 non-null int64
act323        2090 non-null int64
act363        2090 non-null int64
act302        2090 non-null int64
latitude      2090 non-null float64
longitude     2090 non-null float64
dtypes: float64(12), int64(6)
memory usage: 294.0 KB
data1.dropna(inplace=True)
data1.head()
day	dayofweek	dayofyear	hour	month	quarter	week	weekday	weekofyear	year	act379	act13	act279	act323	act363	act302	latitude	longitude
0	28.0	2.0	59.0	21.0	2.0	1.0	9.0	2.0	9.0	2018.0	1	0	0	0	0	0	22.737260	75.875987
1	28.0	2.0	59.0	21.0	2.0	1.0	9.0	2.0	9.0	2018.0	1	0	0	0	0	0	22.720992	75.876083
2	28.0	2.0	59.0	10.0	2.0	1.0	9.0	2.0	9.0	2018.0	0	0	1	0	0	0	22.736676	75.883168
3	28.0	2.0	59.0	10.0	2.0	1.0	9.0	2.0	9.0	2018.0	0	0	1	0	0	0	22.746527	75.887139
4	28.0	2.0	59.0	10.0	2.0	1.0	9.0	2.0	9.0	2018.0	0	0	1	0	0	0	22.769531	75.888772
Data Visualization & Analysis
sns.pairplot(data1,hue='act363')
<seaborn.axisgrid.PairGrid at 0x22751fa8a90>
